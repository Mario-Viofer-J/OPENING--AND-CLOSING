{
 "cells": [
  {
   "cell_type": "markdown",
   "id": "dd75d2d7-f8ea-431d-8b7f-92b1bbc13a3e",
   "metadata": {},
   "source": [
    "# Exp 10: OPENING--AND-CLOSING"
   ]
  },
  {
   "cell_type": "markdown",
   "id": "5532cf27-b176-4106-8453-d8be4956d08b",
   "metadata": {},
   "source": [
    "### Name: Mario Viofer J\n",
    "### Reg No: 212223100032"
   ]
  },
  {
   "cell_type": "code",
   "execution_count": 1,
   "id": "57108736-dae9-497c-a5b8-f011c2a1daf0",
   "metadata": {},
   "outputs": [],
   "source": [
    "import cv2\n",
    "import numpy as np\n",
    "import matplotlib.pyplot as plt"
   ]
  },
  {
   "cell_type": "code",
   "execution_count": 2,
   "id": "a33018a6-ec88-4b87-92cf-64b72baf7f71",
   "metadata": {},
   "outputs": [],
   "source": [
    "# Create a blank image\n",
    "image = np.zeros((500, 500, 3), dtype=np.uint8)"
   ]
  },
  {
   "cell_type": "code",
   "execution_count": 3,
   "id": "3e235834-4f93-4c97-a562-ff4082ae4f38",
   "metadata": {},
   "outputs": [
    {
     "data": {
      "text/plain": [
       "array([[[0, 0, 0],\n",
       "        [0, 0, 0],\n",
       "        [0, 0, 0],\n",
       "        ...,\n",
       "        [0, 0, 0],\n",
       "        [0, 0, 0],\n",
       "        [0, 0, 0]],\n",
       "\n",
       "       [[0, 0, 0],\n",
       "        [0, 0, 0],\n",
       "        [0, 0, 0],\n",
       "        ...,\n",
       "        [0, 0, 0],\n",
       "        [0, 0, 0],\n",
       "        [0, 0, 0]],\n",
       "\n",
       "       [[0, 0, 0],\n",
       "        [0, 0, 0],\n",
       "        [0, 0, 0],\n",
       "        ...,\n",
       "        [0, 0, 0],\n",
       "        [0, 0, 0],\n",
       "        [0, 0, 0]],\n",
       "\n",
       "       ...,\n",
       "\n",
       "       [[0, 0, 0],\n",
       "        [0, 0, 0],\n",
       "        [0, 0, 0],\n",
       "        ...,\n",
       "        [0, 0, 0],\n",
       "        [0, 0, 0],\n",
       "        [0, 0, 0]],\n",
       "\n",
       "       [[0, 0, 0],\n",
       "        [0, 0, 0],\n",
       "        [0, 0, 0],\n",
       "        ...,\n",
       "        [0, 0, 0],\n",
       "        [0, 0, 0],\n",
       "        [0, 0, 0]],\n",
       "\n",
       "       [[0, 0, 0],\n",
       "        [0, 0, 0],\n",
       "        [0, 0, 0],\n",
       "        ...,\n",
       "        [0, 0, 0],\n",
       "        [0, 0, 0],\n",
       "        [0, 0, 0]]], dtype=uint8)"
      ]
     },
     "execution_count": 3,
     "metadata": {},
     "output_type": "execute_result"
    }
   ],
   "source": [
    "# Add text on the image using cv2.putText\n",
    "font = cv2.FONT_HERSHEY_SIMPLEX\n",
    "cv2.putText(image, 'Mario Viofer J', (100, 250), font, 1, (255, 255, 255), 2, cv2.LINE_AA)"
   ]
  },
  {
   "cell_type": "code",
   "execution_count": 4,
   "id": "06b57689-89b8-46cd-a409-2fac72fcf166",
   "metadata": {},
   "outputs": [],
   "source": [
    "# Create a simple square kernel (3x3)\n",
    "kernel = np.ones((3, 3), np.uint8)"
   ]
  },
  {
   "cell_type": "code",
   "execution_count": 5,
   "id": "57869bd9-c770-4ab0-9d35-64d370b73c79",
   "metadata": {},
   "outputs": [
    {
     "data": {
      "text/plain": [
       "(np.float64(-0.5), np.float64(499.5), np.float64(499.5), np.float64(-0.5))"
      ]
     },
     "execution_count": 5,
     "metadata": {},
     "output_type": "execute_result"
    },
    {
     "data": {
      "image/png": "[encoded data removed]",
      "text/plain": [
       "<Figure size 640x480 with 1 Axes>"
      ]
     },
     "metadata": {},
     "output_type": "display_data"
    }
   ],
   "source": [
    "# Display the input image\n",
    "plt.imshow(cv2.cvtColor(image, cv2.COLOR_BGR2RGB))  # Convert BGR to RGB for displaying\n",
    "plt.title(\"Input Image with Text\")\n",
    "plt.axis('off')\n"
   ]
  },
  {
   "cell_type": "code",
   "execution_count": 6,
   "id": "a6499cd9-64f4-4cd6-92e1-8c00e8639318",
   "metadata": {},
   "outputs": [],
   "source": [
    "# Opening is erosion followed by dilation\n",
    "opened_image = cv2.morphologyEx(image, cv2.MORPH_OPEN, kernel)"
   ]
  },
  {
   "cell_type": "code",
   "execution_count": 7,
   "id": "5d5f623f-8518-4508-869b-dc7d71172f92",
   "metadata": {},
   "outputs": [
    {
     "data": {
      "text/plain": [
       "(np.float64(-0.5), np.float64(499.5), np.float64(499.5), np.float64(-0.5))"
      ]
     },
     "execution_count": 7,
     "metadata": {},
     "output_type": "execute_result"
    },
    {
     "data": {
      "image/png": "[encoded data removed]",
      "text/plain": [
       "<Figure size 640x480 with 1 Axes>"
      ]
     },
     "metadata": {},
     "output_type": "display_data"
    }
   ],
   "source": [
    "# Display the result of Opening\n",
    "plt.imshow(cv2.cvtColor(opened_image, cv2.COLOR_BGR2RGB))  # Convert BGR to RGB\n",
    "plt.title(\"Opening Operation\")\n",
    "plt.axis('off')"
   ]
  },
  {
   "cell_type": "code",
   "execution_count": 8,
   "id": "53aa295f-8b14-44f3-a102-469851e044ff",
   "metadata": {},
   "outputs": [],
   "source": [
    "# Closing is dilation followed by erosion\n",
    "closed_image = cv2.morphologyEx(image, cv2.MORPH_CLOSE, kernel)"
   ]
  }
 ],
 "metadata": {
  "kernelspec": {
   "display_name": "Python [conda env:base] *",
   "language": "python",
   "name": "conda-base-py"
  },
  "language_info": {
   "codemirror_mode": {
    "name": "ipython",
    "version": 3
   },
   "file_extension": ".py",
   "mimetype": "text/x-python",
   "name": "python",
   "nbconvert_exporter": "python",
   "pygments_lexer": "ipython3",
   "version": "3.13.5"
  }
 },
 "nbformat": 4,
 "nbformat_minor": 5
}
